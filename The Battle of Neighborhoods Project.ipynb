{
    "nbformat_minor": 1, 
    "cells": [
        {
            "source": "# Week 1", 
            "cell_type": "markdown", 
            "metadata": {
                "collapsed": true
            }
        }, 
        {
            "source": "### Background", 
            "cell_type": "markdown", 
            "metadata": {}
        }, 
        {
            "source": "Top consulting companies such as Ernest & Young, Delloite, Pricewater coopers, Boston Consulting, KPMG hire consultants to work at their client locations. During the period of their assignment, they travel to these client locations from their homes and stay in hotels and eat out. All these boarding and lodging expenses are reimbursed by the consulting company. The consulting company interns would have accounted for all these expenses in finalizing the billing rate with the client. In the interest and safety of their consultants, the company allows their consultant to stay best and safe locations regardless of the daily hotel rate.", 
            "cell_type": "markdown", 
            "metadata": {}
        }, 
        {
            "source": "### Business Problem", 
            "cell_type": "markdown", 
            "metadata": {}
        }, 
        {
            "source": "Since consultants have to stay near client location, it is good idea for the consulting companies to identify safe and nearby hotels and write a contract with the hotels. That way, the consulting company can get a better rate and pass those savings to the client to be competitive with other competing companies. It also provides a comfort to the consultants because they are staying at preferred hotels.\n\nWe are going to apply data science technology to identify best and safe hotels in New York and rank order them by rate and safety \n", 
            "cell_type": "markdown", 
            "metadata": {}
        }, 
        {
            "source": "### Data", 
            "cell_type": "markdown", 
            "metadata": {}
        }, 
        {
            "source": "We would be using \n1.\tNew York City Data containing Boroughs, Neighborhoods along with their latitude and longitude\na.\tData Source: https://cocl.us/new_york_dataset\n2.\tNew York City crime data\na.\tData Source: https://data.cityofnewyork.us/Public-Safety/NYC-crime/qb7u-rbmr\n3.\tHotel data using Foursquare API \n4.\tGeoSpace data to draw / visualize choropleth map\na.\tData Source: https://data.cityofnewyork.us/City-Government/Borough-Boundaries/tqmj-j8zm\n", 
            "cell_type": "markdown", 
            "metadata": {}
        }, 
        {
            "execution_count": null, 
            "cell_type": "code", 
            "metadata": {}, 
            "outputs": [], 
            "source": ""
        }
    ], 
    "metadata": {
        "kernelspec": {
            "display_name": "Python 3.6", 
            "name": "python3", 
            "language": "python"
        }, 
        "language_info": {
            "mimetype": "text/x-python", 
            "nbconvert_exporter": "python", 
            "version": "3.6.8", 
            "name": "python", 
            "file_extension": ".py", 
            "pygments_lexer": "ipython3", 
            "codemirror_mode": {
                "version": 3, 
                "name": "ipython"
            }
        }
    }, 
    "nbformat": 4
}