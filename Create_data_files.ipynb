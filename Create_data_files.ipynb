{
    "nbformat_minor": 4, 
    "cells": [
        {
            "source": "# Data Preperation Program\n\nWe are going to read files from different sources and prepare the files for the actual script (The Battle of Neighborhoods Week 2.ipnyb). This is because, some of the data sources have daily quota limits , have network latencies , or need additional pre-processing to get the data ready for the actual algorthim", 
            "cell_type": "markdown", 
            "metadata": {}
        }, 
        {
            "source": "#### Load all necessary libraries", 
            "cell_type": "markdown", 
            "metadata": {}
        }, 
        {
            "execution_count": 1, 
            "cell_type": "code", 
            "metadata": {}, 
            "outputs": [], 
            "source": "import io\nimport requests\nimport pandas as pd\nimport numpy as np\nfrom requests import request\nimport random # library for random number generation\nimport json\nfrom pandas.io.json import json_normalize"
        }, 
        {
            "source": "#### libraries for displaying images", 
            "cell_type": "markdown", 
            "metadata": {}
        }, 
        {
            "execution_count": 2, 
            "cell_type": "code", 
            "metadata": {}, 
            "outputs": [
                {
                    "output_type": "stream", 
                    "name": "stdout", 
                    "text": "Solving environment: failed\n\nPackagesNotFoundError: The following packages are not available from current channels:\n\n  - yes\n\nCurrent channels:\n\n  - https://repo.anaconda.com/pkgs/main/linux-64\n  - https://repo.anaconda.com/pkgs/main/noarch\n  - https://repo.anaconda.com/pkgs/free/linux-64\n  - https://repo.anaconda.com/pkgs/free/noarch\n  - https://repo.anaconda.com/pkgs/r/linux-64\n  - https://repo.anaconda.com/pkgs/r/noarch\n  - https://repo.anaconda.com/pkgs/pro/linux-64\n  - https://repo.anaconda.com/pkgs/pro/noarch\n\nTo search for alternate channels that may provide the conda package you're\nlooking for, navigate to\n\n    https://anaconda.org\n\nand use the search bar at the top of the page.\n\n\n"
                }
            ], 
            "source": "from IPython.display import Image \nfrom IPython.core.display import HTML \n!conda install pip -- yes"
        }, 
        {
            "execution_count": 3, 
            "cell_type": "code", 
            "metadata": {}, 
            "outputs": [
                {
                    "output_type": "stream", 
                    "name": "stdout", 
                    "text": "Collecting geopy\n\u001b[?25l  Downloading https://files.pythonhosted.org/packages/80/93/d384479da0ead712bdaf697a8399c13a9a89bd856ada5a27d462fb45e47b/geopy-1.20.0-py2.py3-none-any.whl (100kB)\n\u001b[K     |\u2588\u2588\u2588\u2588\u2588\u2588\u2588\u2588\u2588\u2588\u2588\u2588\u2588\u2588\u2588\u2588\u2588\u2588\u2588\u2588\u2588\u2588\u2588\u2588\u2588\u2588\u2588\u2588\u2588\u2588\u2588\u2588| 102kB 2.9MB/s ta 0:00:011\n\u001b[?25hCollecting geographiclib<2,>=1.49 (from geopy)\n  Downloading https://files.pythonhosted.org/packages/5b/ac/4f348828091490d77899bc74e92238e2b55c59392f21948f296e94e50e2b/geographiclib-1.49.tar.gz\nBuilding wheels for collected packages: geographiclib\n  Building wheel for geographiclib (setup.py) ... \u001b[?25ldone\n\u001b[?25h  Stored in directory: /home/jupyterlab/.cache/pip/wheels/99/45/d1/14954797e2a976083182c2e7da9b4e924509e59b6e5c661061\nSuccessfully built geographiclib\nInstalling collected packages: geographiclib, geopy\nSuccessfully installed geographiclib-1.49 geopy-1.20.0\n"
                }
            ], 
            "source": "!pip install geopy\nfrom geopy.geocoders import Nominatim\ngeolocator = Nominatim(user_agent=\"battle of neighbourhoods\")"
        }, 
        {
            "execution_count": 4, 
            "cell_type": "code", 
            "metadata": {}, 
            "outputs": [
                {
                    "output_type": "stream", 
                    "name": "stdout", 
                    "text": "Solving environment: done\n\n\n==> WARNING: A newer version of conda exists. <==\n  current version: 4.5.11\n  latest version: 4.7.11\n\nPlease update conda by running\n\n    $ conda update -n base -c defaults conda\n\n\n\n# All requested packages already installed.\n\nSolving environment: done\n\n\n==> WARNING: A newer version of conda exists. <==\n  current version: 4.5.11\n  latest version: 4.7.11\n\nPlease update conda by running\n\n    $ conda update -n base -c defaults conda\n\n\n\n## Package Plan ##\n\n  environment location: /home/jupyterlab/conda/envs/python\n\n  added / updated specs: \n    - geopy\n\n\nThe following packages will be downloaded:\n\n    package                    |            build\n    ---------------------------|-----------------\n    geopy-1.20.0               |             py_0          57 KB  conda-forge\n    geographiclib-1.49         |             py_0          32 KB  conda-forge\n    ------------------------------------------------------------\n                                           Total:          90 KB\n\nThe following NEW packages will be INSTALLED:\n\n    geographiclib: 1.49-py_0   conda-forge\n    geopy:         1.20.0-py_0 conda-forge\n\n\nDownloading and Extracting Packages\ngeopy-1.20.0         | 57 KB     | ##################################### | 100% \ngeographiclib-1.49   | 32 KB     | ##################################### | 100% \nPreparing transaction: done\nVerifying transaction: done\nExecuting transaction: done\n"
                }
            ], 
            "source": "!conda install -c conda-forge folium=0.5.0 --yes # uncomment this line if you haven't completed the Foursquare API lab\nimport folium # map rendering library\n\n!conda install -c conda-forge geopy --yes # uncomment this line if you haven't completed the Foursquare API lab\nfrom geopy.geocoders import Nominatim # convert an address into latitude and longitude values"
        }, 
        {
            "source": "#### download countries geojson file", 
            "cell_type": "markdown", 
            "metadata": {}
        }, 
        {
            "execution_count": null, 
            "cell_type": "code", 
            "metadata": {}, 
            "outputs": [], 
            "source": "!wget --quiet https://data.cityofnewyork.us/Public-Safety/Police-Precincts/78dh-3ptz -O world_countries.json\n    \nprint('GeoJSON file downloaded!')\n\nworld_geo = r'world_countries.json' # geojson file\n\n# create a plain world map\nworld_map = folium.Map(location=[LATITUDE,LONGITUDE], zoom_start=2, tiles='Mapbox Bright')"
        }, 
        {
            "source": "## Prepare New York Borough & Neighbourhood data file\nInput: https://cocl.us/new_york_dataset", 
            "cell_type": "markdown", 
            "metadata": {}
        }, 
        {
            "execution_count": 5, 
            "cell_type": "code", 
            "metadata": {}, 
            "outputs": [], 
            "source": "def newyork_data():\n    url='https://cocl.us/new_york_dataset'\n    resp=requests.get(url).json()\n    # all data is present in features label\n    features=resp['features']\n    \n    # define the dataframe columns\n    column_names = ['Borough', 'Neighborhood', 'Latitude', 'Longitude'] \n    # instantiate the dataframe\n    new_york_df = pd.DataFrame(columns=column_names)\n    \n    for data in features:\n        borough = data['properties']['borough'] \n        neighborhood_name = data['properties']['name']\n        neighborhood_lattitude = data['geometry']['coordinates'][1]\n        neighborhood_longitude = data['geometry']['coordinates'][0]\n        new_york_df = new_york_df.append({'Borough': borough, 'Neighborhood': neighborhood_name, 'Latitude': neighborhood_lattitude, 'Longitude': neighborhood_longitude}, ignore_index=True)\n    \n    return new_york_df "
        }, 
        {
            "execution_count": 64, 
            "cell_type": "code", 
            "metadata": {}, 
            "outputs": [
                {
                    "output_type": "stream", 
                    "name": "stdout", 
                    "text": "  Borough Neighborhood   Latitude  Longitude\n0   Bronx    Wakefield  40.894705 -73.847201\n1   Bronx   Co-op City  40.874294 -73.829939\n2   Bronx  Eastchester  40.887556 -73.827806\n3   Bronx    Fieldston  40.895437 -73.905643\n4   Bronx    Riverdale  40.890834 -73.912585\n"
                }
            ], 
            "source": "# get new york data\nnew_york_df=newyork_data()\nprint (new_york_df.head())"
        }, 
        {
            "execution_count": 65, 
            "cell_type": "code", 
            "metadata": {}, 
            "outputs": [
                {
                    "output_type": "stream", 
                    "name": "stdout", 
                    "text": "<class 'pandas.core.frame.DataFrame'>\nRangeIndex: 306 entries, 0 to 305\nData columns (total 4 columns):\nBorough         306 non-null object\nNeighborhood    306 non-null object\nLatitude        306 non-null float64\nLongitude       306 non-null float64\ndtypes: float64(2), object(2)\nmemory usage: 9.7+ KB\nNone\n"
                }
            ], 
            "source": "print (new_york_df.info())"
        }, 
        {
            "execution_count": 66, 
            "cell_type": "code", 
            "metadata": {}, 
            "outputs": [], 
            "source": "export_csv = new_york_df.to_csv (r'newyork_borough_data.csv', index = None, header=True) "
        }, 
        {
            "source": "## Prepare New York Crime Data file\nInput: https://data.cityofnewyork.us/resource/5uac-w243.json", 
            "cell_type": "markdown", 
            "metadata": {}
        }, 
        {
            "execution_count": 76, 
            "cell_type": "code", 
            "metadata": {}, 
            "outputs": [
                {
                    "execution_count": 76, 
                    "metadata": {}, 
                    "data": {
                        "text/html": "<div>\n<style scoped>\n    .dataframe tbody tr th:only-of-type {\n        vertical-align: middle;\n    }\n\n    .dataframe tbody tr th {\n        vertical-align: top;\n    }\n\n    .dataframe thead th {\n        text-align: right;\n    }\n</style>\n<table border=\"1\" class=\"dataframe\">\n  <thead>\n    <tr style=\"text-align: right;\">\n      <th></th>\n      <th>cmplnt_num</th>\n      <th>addr_pct_cd</th>\n      <th>boro_nm</th>\n      <th>cmplnt_fr_dt</th>\n      <th>cmplnt_fr_tm</th>\n      <th>cmplnt_to_dt</th>\n      <th>cmplnt_to_tm</th>\n      <th>crm_atpt_cptd_cd</th>\n      <th>jurisdiction_code</th>\n      <th>juris_desc</th>\n      <th>...</th>\n      <th>:@computed_region_f5dn_yrer</th>\n      <th>:@computed_region_yeji_bk3q</th>\n      <th>:@computed_region_92fq_4b7q</th>\n      <th>:@computed_region_sbqj_enih</th>\n      <th>loc_of_occur_desc</th>\n      <th>hadevelopt</th>\n      <th>housing_psa</th>\n      <th>station_name</th>\n      <th>transit_district</th>\n      <th>parks_nm</th>\n    </tr>\n  </thead>\n  <tbody>\n    <tr>\n      <td>0</td>\n      <td>857927015</td>\n      <td>10</td>\n      <td>MANHATTAN</td>\n      <td>2019-01-29T00:00:00.000</td>\n      <td>16:37:00</td>\n      <td>2019-01-29T00:00:00.000</td>\n      <td>16:45:00</td>\n      <td>COMPLETED</td>\n      <td>0.0</td>\n      <td>N.Y. POLICE DEPT</td>\n      <td>...</td>\n      <td>12</td>\n      <td>4</td>\n      <td>10</td>\n      <td>6</td>\n      <td>NaN</td>\n      <td>NaN</td>\n      <td>NaN</td>\n      <td>NaN</td>\n      <td>NaN</td>\n      <td>NaN</td>\n    </tr>\n    <tr>\n      <td>1</td>\n      <td>479254687</td>\n      <td>101</td>\n      <td>QUEENS</td>\n      <td>2019-03-29T00:00:00.000</td>\n      <td>17:00:00</td>\n      <td>2019-03-29T00:00:00.000</td>\n      <td>17:10:00</td>\n      <td>COMPLETED</td>\n      <td>0.0</td>\n      <td>N.Y. POLICE DEPT</td>\n      <td>...</td>\n      <td>51</td>\n      <td>3</td>\n      <td>47</td>\n      <td>59</td>\n      <td>INSIDE</td>\n      <td>NaN</td>\n      <td>NaN</td>\n      <td>NaN</td>\n      <td>NaN</td>\n      <td>NaN</td>\n    </tr>\n    <tr>\n      <td>2</td>\n      <td>320007604</td>\n      <td>41</td>\n      <td>BRONX</td>\n      <td>2019-02-06T00:00:00.000</td>\n      <td>02:00:00</td>\n      <td>NaN</td>\n      <td>NaN</td>\n      <td>COMPLETED</td>\n      <td>0.0</td>\n      <td>N.Y. POLICE DEPT</td>\n      <td>...</td>\n      <td>8</td>\n      <td>5</td>\n      <td>43</td>\n      <td>24</td>\n      <td>INSIDE</td>\n      <td>NaN</td>\n      <td>NaN</td>\n      <td>NaN</td>\n      <td>NaN</td>\n      <td>NaN</td>\n    </tr>\n    <tr>\n      <td>3</td>\n      <td>746022144</td>\n      <td>68</td>\n      <td>BROOKLYN</td>\n      <td>2019-01-08T00:00:00.000</td>\n      <td>22:49:00</td>\n      <td>2019-01-08T00:00:00.000</td>\n      <td>22:52:00</td>\n      <td>COMPLETED</td>\n      <td>0.0</td>\n      <td>N.Y. POLICE DEPT</td>\n      <td>...</td>\n      <td>10</td>\n      <td>2</td>\n      <td>7</td>\n      <td>41</td>\n      <td>NaN</td>\n      <td>NaN</td>\n      <td>NaN</td>\n      <td>NaN</td>\n      <td>NaN</td>\n      <td>NaN</td>\n    </tr>\n    <tr>\n      <td>4</td>\n      <td>593941718</td>\n      <td>45</td>\n      <td>BRONX</td>\n      <td>2019-03-17T00:00:00.000</td>\n      <td>05:00:00</td>\n      <td>2019-03-17T00:00:00.000</td>\n      <td>05:20:00</td>\n      <td>COMPLETED</td>\n      <td>0.0</td>\n      <td>N.Y. POLICE DEPT</td>\n      <td>...</td>\n      <td>43</td>\n      <td>5</td>\n      <td>12</td>\n      <td>28</td>\n      <td>NaN</td>\n      <td>NaN</td>\n      <td>NaN</td>\n      <td>NaN</td>\n      <td>NaN</td>\n      <td>NaN</td>\n    </tr>\n  </tbody>\n</table>\n<p>5 rows \u00d7 40 columns</p>\n</div>", 
                        "text/plain": "   cmplnt_num  addr_pct_cd    boro_nm             cmplnt_fr_dt cmplnt_fr_tm  \\\n0   857927015           10  MANHATTAN  2019-01-29T00:00:00.000     16:37:00   \n1   479254687          101     QUEENS  2019-03-29T00:00:00.000     17:00:00   \n2   320007604           41      BRONX  2019-02-06T00:00:00.000     02:00:00   \n3   746022144           68   BROOKLYN  2019-01-08T00:00:00.000     22:49:00   \n4   593941718           45      BRONX  2019-03-17T00:00:00.000     05:00:00   \n\n              cmplnt_to_dt cmplnt_to_tm crm_atpt_cptd_cd  jurisdiction_code  \\\n0  2019-01-29T00:00:00.000     16:45:00        COMPLETED                0.0   \n1  2019-03-29T00:00:00.000     17:10:00        COMPLETED                0.0   \n2                      NaN          NaN        COMPLETED                0.0   \n3  2019-01-08T00:00:00.000     22:52:00        COMPLETED                0.0   \n4  2019-03-17T00:00:00.000     05:20:00        COMPLETED                0.0   \n\n         juris_desc  ...  :@computed_region_f5dn_yrer  \\\n0  N.Y. POLICE DEPT  ...                           12   \n1  N.Y. POLICE DEPT  ...                           51   \n2  N.Y. POLICE DEPT  ...                            8   \n3  N.Y. POLICE DEPT  ...                           10   \n4  N.Y. POLICE DEPT  ...                           43   \n\n  :@computed_region_yeji_bk3q :@computed_region_92fq_4b7q  \\\n0                           4                          10   \n1                           3                          47   \n2                           5                          43   \n3                           2                           7   \n4                           5                          12   \n\n  :@computed_region_sbqj_enih  loc_of_occur_desc hadevelopt housing_psa  \\\n0                           6                NaN        NaN         NaN   \n1                          59             INSIDE        NaN         NaN   \n2                          24             INSIDE        NaN         NaN   \n3                          41                NaN        NaN         NaN   \n4                          28                NaN        NaN         NaN   \n\n  station_name transit_district parks_nm  \n0          NaN              NaN      NaN  \n1          NaN              NaN      NaN  \n2          NaN              NaN      NaN  \n3          NaN              NaN      NaN  \n4          NaN              NaN      NaN  \n\n[5 rows x 40 columns]"
                    }, 
                    "output_type": "execute_result"
                }
            ], 
            "source": "crime_data=[]\ncrime_data = pd.read_json('https://data.cityofnewyork.us/resource/5uac-w243.json') \ncrime_data.head(5)"
        }, 
        {
            "execution_count": 77, 
            "cell_type": "code", 
            "metadata": {}, 
            "outputs": [
                {
                    "output_type": "stream", 
                    "name": "stdout", 
                    "text": "<class 'pandas.core.frame.DataFrame'>\nRangeIndex: 1000 entries, 0 to 999\nData columns (total 40 columns):\ncmplnt_num                     1000 non-null int64\naddr_pct_cd                    1000 non-null int64\nboro_nm                        995 non-null object\ncmplnt_fr_dt                   1000 non-null object\ncmplnt_fr_tm                   1000 non-null object\ncmplnt_to_dt                   703 non-null object\ncmplnt_to_tm                   704 non-null object\ncrm_atpt_cptd_cd               1000 non-null object\njurisdiction_code              995 non-null float64\njuris_desc                     1000 non-null object\nky_cd                          1000 non-null int64\nlaw_cat_cd                     1000 non-null object\nofns_desc                      999 non-null object\npatrol_boro                    995 non-null object\npd_cd                          995 non-null float64\npd_desc                        995 non-null object\nprem_typ_desc                  990 non-null object\nrpt_dt                         1000 non-null object\nsusp_age_group                 680 non-null object\nsusp_race                      680 non-null object\nsusp_sex                       680 non-null object\nvic_age_group                  1000 non-null object\nvic_race                       1000 non-null object\nvic_sex                        1000 non-null object\nx_coord_cd                     1000 non-null int64\ny_coord_cd                     1000 non-null int64\nlatitude                       1000 non-null float64\nlongitude                      1000 non-null float64\nlat_lon                        1000 non-null object\n:@computed_region_efsh_h5xi    1000 non-null int64\n:@computed_region_f5dn_yrer    1000 non-null int64\n:@computed_region_yeji_bk3q    1000 non-null int64\n:@computed_region_92fq_4b7q    1000 non-null int64\n:@computed_region_sbqj_enih    1000 non-null int64\nloc_of_occur_desc              754 non-null object\nhadevelopt                     33 non-null object\nhousing_psa                    39 non-null float64\nstation_name                   16 non-null object\ntransit_district               16 non-null float64\nparks_nm                       1 non-null object\ndtypes: float64(6), int64(10), object(24)\nmemory usage: 312.6+ KB\n"
                }
            ], 
            "source": "crime_data.info(5)"
        }, 
        {
            "execution_count": 78, 
            "cell_type": "code", 
            "metadata": {}, 
            "outputs": [], 
            "source": "crime_data.head(5)\ncrime_data1 =[]\ncrime_data1 = crime_data[['addr_pct_cd','boro_nm','pd_desc','latitude','longitude']]"
        }, 
        {
            "execution_count": 79, 
            "cell_type": "code", 
            "metadata": {}, 
            "outputs": [
                {
                    "output_type": "stream", 
                    "name": "stdout", 
                    "text": "<class 'pandas.core.frame.DataFrame'>\nRangeIndex: 1000 entries, 0 to 999\nData columns (total 5 columns):\naddr_pct_cd    1000 non-null int64\nboro_nm        995 non-null object\npd_desc        995 non-null object\nlatitude       1000 non-null float64\nlongitude      1000 non-null float64\ndtypes: float64(2), int64(1), object(2)\nmemory usage: 39.2+ KB\n"
                }
            ], 
            "source": "crime_data1.info()"
        }, 
        {
            "execution_count": 80, 
            "cell_type": "code", 
            "metadata": {}, 
            "outputs": [], 
            "source": "newyork_crimes_df= crime_data1.dropna(subset=['boro_nm'])"
        }, 
        {
            "execution_count": 81, 
            "cell_type": "code", 
            "metadata": {}, 
            "outputs": [
                {
                    "output_type": "stream", 
                    "name": "stdout", 
                    "text": "<class 'pandas.core.frame.DataFrame'>\nInt64Index: 995 entries, 0 to 999\nData columns (total 5 columns):\naddr_pct_cd    995 non-null int64\nboro_nm        995 non-null object\npd_desc        995 non-null object\nlatitude       995 non-null float64\nlongitude      995 non-null float64\ndtypes: float64(2), int64(1), object(2)\nmemory usage: 46.6+ KB\n"
                }
            ], 
            "source": "newyork_crimes_df.info()"
        }, 
        {
            "execution_count": 82, 
            "cell_type": "code", 
            "metadata": {}, 
            "outputs": [
                {
                    "output_type": "stream", 
                    "name": "stdout", 
                    "text": "<class 'pandas.core.frame.DataFrame'>\nInt64Index: 995 entries, 0 to 999\nData columns (total 5 columns):\nPrecincts    995 non-null int64\nBorough      995 non-null object\nCrime        995 non-null object\nLatitude     995 non-null float64\nLongitude    995 non-null float64\ndtypes: float64(2), int64(1), object(2)\nmemory usage: 46.6+ KB\n"
                }, 
                {
                    "output_type": "stream", 
                    "name": "stderr", 
                    "text": "/home/jupyterlab/conda/envs/python/lib/python3.6/site-packages/ipykernel_launcher.py:2: SettingWithCopyWarning: \nA value is trying to be set on a copy of a slice from a DataFrame.\nTry using .loc[row_indexer,col_indexer] = value instead\n\nSee the caveats in the documentation: http://pandas.pydata.org/pandas-docs/stable/user_guide/indexing.html#returning-a-view-versus-a-copy\n  \n"
                }
            ], 
            "source": "newyork_crimes_df.columns = ['Precincts','Borough','Crime','Latitude','Longitude']\nnewyork_crimes_df['Borough'] = newyork_crimes_df.Borough.astype(str).str.title()\nnewyork_crimes_df.info()"
        }, 
        {
            "execution_count": 83, 
            "cell_type": "code", 
            "metadata": {}, 
            "outputs": [
                {
                    "execution_count": 83, 
                    "metadata": {}, 
                    "data": {
                        "text/html": "<div>\n<style scoped>\n    .dataframe tbody tr th:only-of-type {\n        vertical-align: middle;\n    }\n\n    .dataframe tbody tr th {\n        vertical-align: top;\n    }\n\n    .dataframe thead th {\n        text-align: right;\n    }\n</style>\n<table border=\"1\" class=\"dataframe\">\n  <thead>\n    <tr style=\"text-align: right;\">\n      <th></th>\n      <th>Precincts</th>\n      <th>Borough</th>\n      <th>Crime</th>\n      <th>Latitude</th>\n      <th>Longitude</th>\n    </tr>\n  </thead>\n  <tbody>\n    <tr>\n      <td>0</td>\n      <td>10</td>\n      <td>Manhattan</td>\n      <td>ASSAULT 2,1,UNCLASSIFIED</td>\n      <td>40.747777</td>\n      <td>-74.000398</td>\n    </tr>\n    <tr>\n      <td>1</td>\n      <td>101</td>\n      <td>Queens</td>\n      <td>BURGLARY,RESIDENCE,DAY</td>\n      <td>40.598538</td>\n      <td>-73.748560</td>\n    </tr>\n    <tr>\n      <td>2</td>\n      <td>41</td>\n      <td>Bronx</td>\n      <td>ROBBERY,BEGIN AS SHOPLIFTING</td>\n      <td>40.819886</td>\n      <td>-73.901227</td>\n    </tr>\n    <tr>\n      <td>3</td>\n      <td>68</td>\n      <td>Brooklyn</td>\n      <td>CONTROLLED SUBSTANCE,INTENT TO</td>\n      <td>40.624663</td>\n      <td>-73.999321</td>\n    </tr>\n    <tr>\n      <td>4</td>\n      <td>45</td>\n      <td>Bronx</td>\n      <td>ASSAULT 3</td>\n      <td>40.838545</td>\n      <td>-73.844583</td>\n    </tr>\n  </tbody>\n</table>\n</div>", 
                        "text/plain": "   Precincts    Borough                           Crime   Latitude  Longitude\n0         10  Manhattan        ASSAULT 2,1,UNCLASSIFIED  40.747777 -74.000398\n1        101     Queens          BURGLARY,RESIDENCE,DAY  40.598538 -73.748560\n2         41      Bronx    ROBBERY,BEGIN AS SHOPLIFTING  40.819886 -73.901227\n3         68   Brooklyn  CONTROLLED SUBSTANCE,INTENT TO  40.624663 -73.999321\n4         45      Bronx                       ASSAULT 3  40.838545 -73.844583"
                    }, 
                    "output_type": "execute_result"
                }
            ], 
            "source": "newyork_crimes_df.head()"
        }, 
        {
            "execution_count": 85, 
            "cell_type": "code", 
            "metadata": {}, 
            "outputs": [], 
            "source": "export_csv = newyork_crimes_df.to_csv (r'newyork_crime_data.csv', index = None, header=True) "
        }, 
        {
            "source": "## Prepare Hotels list based on selected Neighbourhood Data file\nInput: selected_neighbourhoods_data. This file was prepared by processing Top 50 safe ranked neighbourhoods & Precincts that have crime count less than the mean of total crime count.", 
            "cell_type": "markdown", 
            "metadata": {}
        }, 
        {
            "execution_count": 120, 
            "cell_type": "code", 
            "metadata": {}, 
            "outputs": [
                {
                    "execution_count": 120, 
                    "metadata": {}, 
                    "data": {
                        "text/html": "<div>\n<style scoped>\n    .dataframe tbody tr th:only-of-type {\n        vertical-align: middle;\n    }\n\n    .dataframe tbody tr th {\n        vertical-align: top;\n    }\n\n    .dataframe thead th {\n        text-align: right;\n    }\n</style>\n<table border=\"1\" class=\"dataframe\">\n  <thead>\n    <tr style=\"text-align: right;\">\n      <th></th>\n      <th>Borough</th>\n      <th>Neighborhood</th>\n      <th>Latitude</th>\n      <th>Longitude</th>\n    </tr>\n  </thead>\n  <tbody>\n    <tr>\n      <td>0</td>\n      <td>Bronx</td>\n      <td>Co-op City</td>\n      <td>40.874294</td>\n      <td>-73.829939</td>\n    </tr>\n    <tr>\n      <td>1</td>\n      <td>Bronx</td>\n      <td>Fieldston</td>\n      <td>40.895437</td>\n      <td>-73.905643</td>\n    </tr>\n    <tr>\n      <td>2</td>\n      <td>Bronx</td>\n      <td>Riverdale</td>\n      <td>40.890834</td>\n      <td>-73.912585</td>\n    </tr>\n    <tr>\n      <td>3</td>\n      <td>Bronx</td>\n      <td>Kingsbridge</td>\n      <td>40.881687</td>\n      <td>-73.902818</td>\n    </tr>\n    <tr>\n      <td>4</td>\n      <td>Manhattan</td>\n      <td>Marble Hill</td>\n      <td>40.876551</td>\n      <td>-73.910660</td>\n    </tr>\n  </tbody>\n</table>\n</div>", 
                        "text/plain": "     Borough Neighborhood   Latitude  Longitude\n0      Bronx   Co-op City  40.874294 -73.829939\n1      Bronx    Fieldston  40.895437 -73.905643\n2      Bronx    Riverdale  40.890834 -73.912585\n3      Bronx  Kingsbridge  40.881687 -73.902818\n4  Manhattan  Marble Hill  40.876551 -73.910660"
                    }, 
                    "output_type": "execute_result"
                }
            ], 
            "source": "column_names = ['Borough', 'Neighborhood', 'Latitude', 'Longitude'] \nselected_neighbourhoods_df = pd.read_csv('selected_neighbourhoods_data.csv', delimiter=',', names = column_names,header=0 )\nselected_neighbourhoods_df.head()"
        }, 
        {
            "execution_count": 121, 
            "cell_type": "code", 
            "metadata": {}, 
            "outputs": [
                {
                    "output_type": "stream", 
                    "name": "stdout", 
                    "text": "<class 'pandas.core.frame.DataFrame'>\nRangeIndex: 127 entries, 0 to 126\nData columns (total 4 columns):\nBorough         127 non-null object\nNeighborhood    127 non-null object\nLatitude        127 non-null float64\nLongitude       127 non-null float64\ndtypes: float64(2), object(2)\nmemory usage: 4.1+ KB\n"
                }
            ], 
            "source": "selected_neighbourhoods_df.info()"
        }, 
        {
            "execution_count": null, 
            "cell_type": "code", 
            "metadata": {}, 
            "outputs": [], 
            "source": ""
        }, 
        {
            "execution_count": 122, 
            "cell_type": "code", 
            "metadata": {}, 
            "outputs": [], 
            "source": "# The code was removed by Watson Studio for sharing."
        }, 
        {
            "execution_count": 136, 
            "cell_type": "code", 
            "metadata": {}, 
            "outputs": [], 
            "source": "def get_hotels_by_borough(borough, neighbourhood,lat,lng):\n    api = 'https://api.foursquare.com/v2/venues/explore?client_id={}&client_secret={}&ll={},{}&v={}&radius={}&limit={}'\n    url = api.format(CLIENT_ID, CLIENT_SECRET, lat, lng, VERSION, RADIUS, LIMIT)\n\n    results = requests.get(url).json()\n    hotel_list_df=[]\n    hotel_data=results[\"response\"]['groups'][0]['items']\n    try:\n        for each_row in hotel_data:\n            try:\n                hotel_id=each_row['venue']['id']\n                hotel_name=each_row['venue']['name']\n                try:\n                    hotel_category_nm=each_row['venue']['categories'][0]['name']\n                    hotel_category_id=each_row['venue']['categories'][0]['id']\n                except:\n                    hotel_category='Category Not Available'\n                hotel_lat = each_row['venue']['location']['lat']\n                hotel_lng = each_row['venue']['location']['lng']\n                hotel_list_df.append([borough, neighbourhood,lat,lng,hotel_id,hotel_name,hotel_category_nm,hotel_category_id,hotel_lat,hotel_lng])\n            except KeyError:\n                pass  \n\n        column_names=['Borough','Neighbourhood','NeighbourhoodLat','NeighbourhoodLng','ID','Name','Category_NM','Category_ID','HotelLat','HotelLng']\n        hotel_list_df = pd.DataFrame(hotel_list_df,columns=column_names)\n    #    print (hotel_list_df.head())\n        return hotel_list_df\n    except KeyError:\n        pass"
        }, 
        {
            "execution_count": 137, 
            "cell_type": "code", 
            "metadata": {}, 
            "outputs": [
                {
                    "output_type": "stream", 
                    "name": "stdout", 
                    "text": "Processed Bronx / Co-op City, Hotel count: 1\nProcessed Bronx / Fieldston, Hotel count: 0\nProcessed Bronx / Riverdale, Hotel count: 0\nProcessed Bronx / Kingsbridge, Hotel count: 0\nProcessed Manhattan / Marble Hill, Hotel count: 0\nProcessed Bronx / City Island, Hotel count: 1\nProcessed Bronx / Throgs Neck, Hotel count: 1\nProcessed Bronx / Spuyten Duyvil, Hotel count: 0\nProcessed Bronx / Pelham Bay, Hotel count: 1\nProcessed Brooklyn / Bay Ridge, Hotel count: 0\nProcessed Brooklyn / Sunset Park, Hotel count: 0\nProcessed Brooklyn / Greenpoint, Hotel count: 2\nProcessed Brooklyn / Brighton Beach, Hotel count: 0\nProcessed Brooklyn / Sheepshead Bay, Hotel count: 0\nProcessed Brooklyn / Crown Heights, Hotel count: 0\nProcessed Brooklyn / Kensington, Hotel count: 0\nProcessed Brooklyn / Windsor Terrace, Hotel count: 0\nProcessed Brooklyn / Prospect Heights, Hotel count: 0\nProcessed Brooklyn / Williamsburg, Hotel count: 2\nProcessed Brooklyn / Cobble Hill, Hotel count: 2\nProcessed Brooklyn / Carroll Gardens, Hotel count: 1\nProcessed Brooklyn / Red Hook, Hotel count: 1\nProcessed Brooklyn / Gowanus, Hotel count: 0\nProcessed Brooklyn / Park Slope, Hotel count: 0\nProcessed Brooklyn / Canarsie, Hotel count: 0\nProcessed Brooklyn / Flatlands, Hotel count: 0\nProcessed Brooklyn / Coney Island, Hotel count: 0\nProcessed Brooklyn / Borough Park, Hotel count: 0\nProcessed Brooklyn / Midwood, Hotel count: 0\nProcessed Brooklyn / Prospect Park South, Hotel count: 0\nProcessed Brooklyn / Georgetown, Hotel count: 0\nProcessed Brooklyn / East Williamsburg, Hotel count: 2\nProcessed Manhattan / Washington Heights, Hotel count: 0\nProcessed Manhattan / Inwood, Hotel count: 0\nProcessed Manhattan / Hamilton Heights, Hotel count: 0\nProcessed Manhattan / Manhattanville, Hotel count: 0\nProcessed Manhattan / East Harlem, Hotel count: 0\nProcessed Manhattan / Upper West Side, Hotel count: 2\nProcessed Manhattan / Chelsea, Hotel count: 1\nProcessed Manhattan / Morningside Heights, Hotel count: 0\nProcessed Queens / Woodside, Hotel count: 1\nProcessed Queens / Elmhurst, Hotel count: 0\nProcessed Queens / Howard Beach, Hotel count: 0\nProcessed Queens / Corona, Hotel count: 0\nProcessed Queens / Forest Hills, Hotel count: 0\nProcessed Queens / Kew Gardens, Hotel count: 0\nProcessed Queens / Richmond Hill, Hotel count: 0\nProcessed Queens / Flushing, Hotel count: 0\nProcessed Queens / Sunnyside, Hotel count: 2\nProcessed Queens / Maspeth, Hotel count: 0\nProcessed Queens / Ridgewood, Hotel count: 0\nProcessed Queens / Glendale, Hotel count: 0\nProcessed Queens / Rego Park, Hotel count: 0\nProcessed Queens / Woodhaven, Hotel count: 0\nProcessed Queens / Ozone Park, Hotel count: 0\nProcessed Queens / South Ozone Park, Hotel count: 1\nProcessed Queens / Whitestone, Hotel count: 0\nProcessed Queens / Bayside, Hotel count: 0\nProcessed Queens / Little Neck, Hotel count: 0\nProcessed Queens / Douglaston, Hotel count: 0\nProcessed Queens / Bellerose, Hotel count: 0\nProcessed Queens / Kew Gardens Hills, Hotel count: 0\nProcessed Queens / Fresh Meadows, Hotel count: 0\nProcessed Queens / Briarwood, Hotel count: 0\nProcessed Queens / Queens Village, Hotel count: 0\nProcessed Queens / Springfield Gardens, Hotel count: 1\nProcessed Queens / Rosedale, Hotel count: 1\nProcessed Queens / Breezy Point, Hotel count: 0\nProcessed Queens / Bay Terrace, Hotel count: 0\nProcessed Queens / Rockaway Beach, Hotel count: 1\nProcessed Queens / Jamaica Estates, Hotel count: 0\nProcessed Queens / Belle Harbor, Hotel count: 0\nProcessed Queens / Rockaway Park, Hotel count: 0\nProcessed Staten Island / St. George, Hotel count: 0\nProcessed Staten Island / New Brighton, Hotel count: 0\nProcessed Staten Island / Stapleton, Hotel count: 0\nProcessed Staten Island / Rosebank, Hotel count: 0\nProcessed Staten Island / West Brighton, Hotel count: 0\nProcessed Staten Island / Grymes Hill, Hotel count: 0\nProcessed Staten Island / Todt Hill, Hotel count: 0\nProcessed Staten Island / Port Richmond, Hotel count: 0\nProcessed Staten Island / Mariner's Harbor, Hotel count: 1\nProcessed Staten Island / Port Ivory, Hotel count: 2\nProcessed Staten Island / Castleton Corners, Hotel count: 0\nProcessed Staten Island / New Springville, Hotel count: 1\nProcessed Staten Island / Travis, Hotel count: 2\nProcessed Staten Island / Oakwood, Hotel count: 0\nProcessed Staten Island / Eltingville, Hotel count: 0\nProcessed Staten Island / Annadale, Hotel count: 0\nProcessed Staten Island / Woodrow, Hotel count: 0\nProcessed Staten Island / Tompkinsville, Hotel count: 0\nProcessed Staten Island / Silver Lake, Hotel count: 0\nProcessed Staten Island / Sunnyside, Hotel count: 0\nProcessed Brooklyn / Ditmas Park, Hotel count: 0\nProcessed Staten Island / Westerleigh, Hotel count: 1\nProcessed Staten Island / Graniteville, Hotel count: 1\nProcessed Staten Island / Arlington, Hotel count: 1\nProcessed Staten Island / Arrochar, Hotel count: 0\nProcessed Staten Island / Grasmere, Hotel count: 0\nProcessed Staten Island / Old Town, Hotel count: 0\nProcessed Staten Island / Dongan Hills, Hotel count: 0\nProcessed Staten Island / Midland Beach, Hotel count: 0\nProcessed Staten Island / Grant City, Hotel count: 0\nProcessed Staten Island / Bay Terrace, Hotel count: 0\nProcessed Staten Island / Huguenot, Hotel count: 0\nProcessed Staten Island / Pleasant Plains, Hotel count: 0\nProcessed Staten Island / Charleston, Hotel count: 0\nProcessed Staten Island / Rossville, Hotel count: 0\nProcessed Staten Island / Arden Heights, Hotel count: 0\nProcessed Staten Island / Greenridge, Hotel count: 0\nProcessed Staten Island / Chelsea, Hotel count: 1\nProcessed Staten Island / Bloomfield, Hotel count: 1\nProcessed Staten Island / Bulls Head, Hotel count: 1\nProcessed Staten Island / Shore Acres, Hotel count: 0\nProcessed Staten Island / Clifton, Hotel count: 0\nProcessed Staten Island / Concord, Hotel count: 0\nProcessed Staten Island / Emerson Hill, Hotel count: 0\nProcessed Staten Island / Randall Manor, Hotel count: 0\nProcessed Staten Island / Elm Park, Hotel count: 1\nProcessed Brooklyn / Mill Basin, Hotel count: 0\nProcessed Manhattan / Turtle Bay, Hotel count: 3\nProcessed Queens / Sunnyside Gardens, Hotel count: 0\nProcessed Staten Island / Willowbrook, Hotel count: 1\nProcessed Staten Island / Egbertville, Hotel count: 0\nProcessed Queens / Middle Village, Hotel count: 0\nProcessed Staten Island / Prince's Bay, Hotel count: 0\nProcessed Staten Island / Richmond Valley, Hotel count: 0\n"
                }
            ], 
            "source": "#column_names=['Borough', 'Neighborhood', 'ID','Name','Latitude','Longtude']\ncolumn_names=['Borough','Neighbourhood','Hotel_ID','Hotel_Name','Category_NM','Category_ID','Latitude','Longtude']\nhotels_ny=pd.DataFrame(columns=column_names)\ncount=1\n\n# ny_list_df =selected_neighbourhoods_df[selected_neighbourhoods_df['Neighborhood']=='Co-op City'] \n# ny_list_df =new_york_df[new_york_df['Borough']=='Brooklyn']\nny_list_df =selected_neighbourhoods_df\nny_list = ny_list_df.values.tolist()\n\nfor row in ny_list:\n    Borough, Neighborhood, Latitude, Longitude=row\n    venues = get_hotels_by_borough(Borough,Neighborhood,Latitude,Longitude)\n#    found_hotels_df=venues[venues['Category']=='Hotel']   \n    found_hotels_df=venues[venues['Category_ID'].isin(['4bf58dd8d48988d1fa931735', '4bf58dd8d48988d1f8931735', '5bae9231bedf3950379f89cb', '4bf58dd8d48988d1fb931735', '4bf58dd8d48988d12f951735'])]\n    print('Processed '+Borough+ ' / '+Neighborhood+ ', Hotel count: '+ str(len(found_hotels_df)))\n    for each_row in found_hotels_df.values.tolist():\n#        print (borough+ ' / '+neighborhood+ ' / '+ name)\n        borough,neighborhood,nlat,nlng,hid, name , cat_nm, cat_id,hlat,hlng =each_row\n        hotels_ny = hotels_ny.append({'Borough': borough,\n                                                'Neighbourhood': neighborhood, \n                                                'Hotel_ID': hid,\n                                                'Hotel_Name' : name,\n                                                'Category_NM' :cat_nm,\n                                                'Category_ID' : cat_id,\n                                                'Latitude': hlat,\n                                                'Longtude' : hlng\n                                               }, ignore_index=True)\n    count+=1\n"
        }, 
        {
            "execution_count": 138, 
            "cell_type": "code", 
            "metadata": {}, 
            "outputs": [
                {
                    "output_type": "stream", 
                    "name": "stdout", 
                    "text": "    Borough Neighbourhood                  Hotel_ID  \\\n0     Bronx    Co-op City  54932887498ee0902b1ed511   \n1     Bronx   City Island  54932887498ee0902b1ed511   \n2     Bronx   Throgs Neck  54932887498ee0902b1ed511   \n3     Bronx    Pelham Bay  54932887498ee0902b1ed511   \n4  Brooklyn    Greenpoint  4ab04eb9f964a520fe6620e3   \n\n                                          Hotel_Name Category_NM  \\\n0  Residence Inn by Marriott New York The Bronx a...       Hotel   \n1  Residence Inn by Marriott New York The Bronx a...       Hotel   \n2  Residence Inn by Marriott New York The Bronx a...       Hotel   \n3  Residence Inn by Marriott New York The Bronx a...       Hotel   \n4                                   The Bowery Hotel       Hotel   \n\n                Category_ID   Latitude   Longtude  \n0  4bf58dd8d48988d1fa931735  40.850020 -73.842579  \n1  4bf58dd8d48988d1fa931735  40.850020 -73.842579  \n2  4bf58dd8d48988d1fa931735  40.850020 -73.842579  \n3  4bf58dd8d48988d1fa931735  40.850020 -73.842579  \n4  4bf58dd8d48988d1fa931735  40.726145 -73.991627  \n"
                }
            ], 
            "source": "print (hotels_ny.head())"
        }, 
        {
            "execution_count": 139, 
            "cell_type": "code", 
            "metadata": {}, 
            "outputs": [
                {
                    "output_type": "stream", 
                    "name": "stdout", 
                    "text": "<class 'pandas.core.frame.DataFrame'>\nRangeIndex: 41 entries, 0 to 40\nData columns (total 8 columns):\nBorough          41 non-null object\nNeighbourhood    41 non-null object\nHotel_ID         41 non-null object\nHotel_Name       41 non-null object\nCategory_NM      41 non-null object\nCategory_ID      41 non-null object\nLatitude         41 non-null float64\nLongtude         41 non-null float64\ndtypes: float64(2), object(6)\nmemory usage: 2.7+ KB\n"
                }
            ], 
            "source": "# hotels_ny = hotels_ny.drop_duplicates(subset='ID', keep='first')\nhotels_ny.info()"
        }, 
        {
            "execution_count": 140, 
            "cell_type": "code", 
            "metadata": {}, 
            "outputs": [], 
            "source": "export_csv = hotels_ny.to_csv (r'newyork_hotels_data.csv', index = None, header=True) "
        }, 
        {
            "execution_count": null, 
            "cell_type": "code", 
            "metadata": {}, 
            "outputs": [], 
            "source": ""
        }
    ], 
    "metadata": {
        "kernelspec": {
            "display_name": "Python 3.6", 
            "name": "python3", 
            "language": "python"
        }, 
        "language_info": {
            "mimetype": "text/x-python", 
            "nbconvert_exporter": "python", 
            "version": "3.6.8", 
            "name": "python", 
            "file_extension": ".py", 
            "pygments_lexer": "ipython3", 
            "codemirror_mode": {
                "version": 3, 
                "name": "ipython"
            }
        }
    }, 
    "nbformat": 4
}