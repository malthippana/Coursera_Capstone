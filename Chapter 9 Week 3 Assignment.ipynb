{
    "nbformat_minor": 1, 
    "cells": [
        {
            "source": "import io\nimport requests\nimport pandas as pd\nimport numpy as np", 
            "cell_type": "code", 
            "metadata": {}, 
            "outputs": [], 
            "execution_count": 45
        }, 
        {
            "source": "# create the dataframe reading the given input file", 
            "cell_type": "markdown", 
            "metadata": {}
        }, 
        {
            "source": "dfs = pd.read_html('https://en.wikipedia.org/wiki/List_of_postal_codes_of_Canada:_M',header =0, flavor='bs4', )[0]\ndfs1 = dfs[['Postcode', 'Borough', 'Neighbourhood']]\ndfs1.head(3)", 
            "cell_type": "code", 
            "metadata": {}, 
            "outputs": [
                {
                    "output_type": "execute_result", 
                    "data": {
                        "text/html": "<div>\n<style scoped>\n    .dataframe tbody tr th:only-of-type {\n        vertical-align: middle;\n    }\n\n    .dataframe tbody tr th {\n        vertical-align: top;\n    }\n\n    .dataframe thead th {\n        text-align: right;\n    }\n</style>\n<table border=\"1\" class=\"dataframe\">\n  <thead>\n    <tr style=\"text-align: right;\">\n      <th></th>\n      <th>Postcode</th>\n      <th>Borough</th>\n      <th>Neighbourhood</th>\n    </tr>\n  </thead>\n  <tbody>\n    <tr>\n      <th>0</th>\n      <td>M1A</td>\n      <td>Not assigned</td>\n      <td>Not assigned</td>\n    </tr>\n    <tr>\n      <th>1</th>\n      <td>M2A</td>\n      <td>Not assigned</td>\n      <td>Not assigned</td>\n    </tr>\n    <tr>\n      <th>2</th>\n      <td>M3A</td>\n      <td>North York</td>\n      <td>Parkwoods</td>\n    </tr>\n  </tbody>\n</table>\n</div>", 
                        "text/plain": "  Postcode       Borough Neighbourhood\n0      M1A  Not assigned  Not assigned\n1      M2A  Not assigned  Not assigned\n2      M3A    North York     Parkwoods"
                    }, 
                    "execution_count": 46, 
                    "metadata": {}
                }
            ], 
            "execution_count": 46
        }, 
        {
            "source": "# Only process the cells that have an assigned borough. Ignore cells with a borough that is Not assigned", 
            "cell_type": "markdown", 
            "metadata": {}
        }, 
        {
            "source": "dfs2 = dfs1[dfs1['Borough']!= 'Not assigned']\ndfs2.head(10)", 
            "cell_type": "code", 
            "metadata": {}, 
            "outputs": [
                {
                    "output_type": "execute_result", 
                    "data": {
                        "text/html": "<div>\n<style scoped>\n    .dataframe tbody tr th:only-of-type {\n        vertical-align: middle;\n    }\n\n    .dataframe tbody tr th {\n        vertical-align: top;\n    }\n\n    .dataframe thead th {\n        text-align: right;\n    }\n</style>\n<table border=\"1\" class=\"dataframe\">\n  <thead>\n    <tr style=\"text-align: right;\">\n      <th></th>\n      <th>Postcode</th>\n      <th>Borough</th>\n      <th>Neighbourhood</th>\n    </tr>\n  </thead>\n  <tbody>\n    <tr>\n      <th>2</th>\n      <td>M3A</td>\n      <td>North York</td>\n      <td>Parkwoods</td>\n    </tr>\n    <tr>\n      <th>3</th>\n      <td>M4A</td>\n      <td>North York</td>\n      <td>Victoria Village</td>\n    </tr>\n    <tr>\n      <th>4</th>\n      <td>M5A</td>\n      <td>Downtown Toronto</td>\n      <td>Harbourfront</td>\n    </tr>\n    <tr>\n      <th>5</th>\n      <td>M5A</td>\n      <td>Downtown Toronto</td>\n      <td>Regent Park</td>\n    </tr>\n    <tr>\n      <th>6</th>\n      <td>M6A</td>\n      <td>North York</td>\n      <td>Lawrence Heights</td>\n    </tr>\n    <tr>\n      <th>7</th>\n      <td>M6A</td>\n      <td>North York</td>\n      <td>Lawrence Manor</td>\n    </tr>\n    <tr>\n      <th>8</th>\n      <td>M7A</td>\n      <td>Queen's Park</td>\n      <td>Not assigned</td>\n    </tr>\n    <tr>\n      <th>10</th>\n      <td>M9A</td>\n      <td>Etobicoke</td>\n      <td>Islington Avenue</td>\n    </tr>\n    <tr>\n      <th>11</th>\n      <td>M1B</td>\n      <td>Scarborough</td>\n      <td>Rouge</td>\n    </tr>\n    <tr>\n      <th>12</th>\n      <td>M1B</td>\n      <td>Scarborough</td>\n      <td>Malvern</td>\n    </tr>\n  </tbody>\n</table>\n</div>", 
                        "text/plain": "   Postcode           Borough     Neighbourhood\n2       M3A        North York         Parkwoods\n3       M4A        North York  Victoria Village\n4       M5A  Downtown Toronto      Harbourfront\n5       M5A  Downtown Toronto       Regent Park\n6       M6A        North York  Lawrence Heights\n7       M6A        North York    Lawrence Manor\n8       M7A      Queen's Park      Not assigned\n10      M9A         Etobicoke  Islington Avenue\n11      M1B       Scarborough             Rouge\n12      M1B       Scarborough           Malvern"
                    }, 
                    "execution_count": 47, 
                    "metadata": {}
                }
            ], 
            "execution_count": 47
        }, 
        {
            "source": "# If a cell has a borough but a Not assigned neighborhood, then the neighborhood will be the same as the borough. So for the 9th cell in the table on the Wikipedia page, the value of the Borough and the Neighborhood columns will be Queen's Park", 
            "cell_type": "markdown", 
            "metadata": {}
        }, 
        {
            "source": "dfs3 = dfs2[dfs2['Neighbourhood']== 'Not assigned']\ndfs3", 
            "cell_type": "code", 
            "metadata": {}, 
            "outputs": [
                {
                    "output_type": "execute_result", 
                    "data": {
                        "text/html": "<div>\n<style scoped>\n    .dataframe tbody tr th:only-of-type {\n        vertical-align: middle;\n    }\n\n    .dataframe tbody tr th {\n        vertical-align: top;\n    }\n\n    .dataframe thead th {\n        text-align: right;\n    }\n</style>\n<table border=\"1\" class=\"dataframe\">\n  <thead>\n    <tr style=\"text-align: right;\">\n      <th></th>\n      <th>Postcode</th>\n      <th>Borough</th>\n      <th>Neighbourhood</th>\n    </tr>\n  </thead>\n  <tbody>\n    <tr>\n      <th>8</th>\n      <td>M7A</td>\n      <td>Queen's Park</td>\n      <td>Not assigned</td>\n    </tr>\n  </tbody>\n</table>\n</div>", 
                        "text/plain": "  Postcode       Borough Neighbourhood\n8      M7A  Queen's Park  Not assigned"
                    }, 
                    "execution_count": 48, 
                    "metadata": {}
                }
            ], 
            "execution_count": 48
        }, 
        {
            "source": "# More than one neighborhood can exist in one postal code area. For example, in the table on the Wikipedia page, you will notice that M5A is listed twice and has two neighborhoods: Harbourfront and Regent Park. These two rows will be combined into one row with the neighborhoods separated with a comma as shown in row 11 in the above table", 
            "cell_type": "markdown", 
            "metadata": {}
        }, 
        {
            "source": "dfs2['UpdatedNeighbourhood'] = np.where(dfs2.Neighbourhood == 'Not assigned',dfs2.Borough,dfs2.Neighbourhood)\ndfs2.head(10)", 
            "cell_type": "code", 
            "metadata": {}, 
            "outputs": [
                {
                    "output_type": "stream", 
                    "name": "stderr", 
                    "text": "/opt/conda/envs/Python36/lib/python3.6/site-packages/ipykernel/__main__.py:1: SettingWithCopyWarning: \nA value is trying to be set on a copy of a slice from a DataFrame.\nTry using .loc[row_indexer,col_indexer] = value instead\n\nSee the caveats in the documentation: http://pandas.pydata.org/pandas-docs/stable/indexing.html#indexing-view-versus-copy\n  if __name__ == '__main__':\n"
                }, 
                {
                    "output_type": "execute_result", 
                    "data": {
                        "text/html": "<div>\n<style scoped>\n    .dataframe tbody tr th:only-of-type {\n        vertical-align: middle;\n    }\n\n    .dataframe tbody tr th {\n        vertical-align: top;\n    }\n\n    .dataframe thead th {\n        text-align: right;\n    }\n</style>\n<table border=\"1\" class=\"dataframe\">\n  <thead>\n    <tr style=\"text-align: right;\">\n      <th></th>\n      <th>Postcode</th>\n      <th>Borough</th>\n      <th>Neighbourhood</th>\n      <th>UpdatedNeighbourhood</th>\n    </tr>\n  </thead>\n  <tbody>\n    <tr>\n      <th>2</th>\n      <td>M3A</td>\n      <td>North York</td>\n      <td>Parkwoods</td>\n      <td>Parkwoods</td>\n    </tr>\n    <tr>\n      <th>3</th>\n      <td>M4A</td>\n      <td>North York</td>\n      <td>Victoria Village</td>\n      <td>Victoria Village</td>\n    </tr>\n    <tr>\n      <th>4</th>\n      <td>M5A</td>\n      <td>Downtown Toronto</td>\n      <td>Harbourfront</td>\n      <td>Harbourfront</td>\n    </tr>\n    <tr>\n      <th>5</th>\n      <td>M5A</td>\n      <td>Downtown Toronto</td>\n      <td>Regent Park</td>\n      <td>Regent Park</td>\n    </tr>\n    <tr>\n      <th>6</th>\n      <td>M6A</td>\n      <td>North York</td>\n      <td>Lawrence Heights</td>\n      <td>Lawrence Heights</td>\n    </tr>\n    <tr>\n      <th>7</th>\n      <td>M6A</td>\n      <td>North York</td>\n      <td>Lawrence Manor</td>\n      <td>Lawrence Manor</td>\n    </tr>\n    <tr>\n      <th>8</th>\n      <td>M7A</td>\n      <td>Queen's Park</td>\n      <td>Not assigned</td>\n      <td>Queen's Park</td>\n    </tr>\n    <tr>\n      <th>10</th>\n      <td>M9A</td>\n      <td>Etobicoke</td>\n      <td>Islington Avenue</td>\n      <td>Islington Avenue</td>\n    </tr>\n    <tr>\n      <th>11</th>\n      <td>M1B</td>\n      <td>Scarborough</td>\n      <td>Rouge</td>\n      <td>Rouge</td>\n    </tr>\n    <tr>\n      <th>12</th>\n      <td>M1B</td>\n      <td>Scarborough</td>\n      <td>Malvern</td>\n      <td>Malvern</td>\n    </tr>\n  </tbody>\n</table>\n</div>", 
                        "text/plain": "   Postcode           Borough     Neighbourhood UpdatedNeighbourhood\n2       M3A        North York         Parkwoods            Parkwoods\n3       M4A        North York  Victoria Village     Victoria Village\n4       M5A  Downtown Toronto      Harbourfront         Harbourfront\n5       M5A  Downtown Toronto       Regent Park          Regent Park\n6       M6A        North York  Lawrence Heights     Lawrence Heights\n7       M6A        North York    Lawrence Manor       Lawrence Manor\n8       M7A      Queen's Park      Not assigned         Queen's Park\n10      M9A         Etobicoke  Islington Avenue     Islington Avenue\n11      M1B       Scarborough             Rouge                Rouge\n12      M1B       Scarborough           Malvern              Malvern"
                    }, 
                    "execution_count": 49, 
                    "metadata": {}
                }
            ], 
            "execution_count": 49
        }, 
        {
            "source": "group_data = dfs2.groupby(['Postcode','Borough'])['UpdatedNeighbourhood'].agg([('UpdatedNeighbourhood', ', '.join)])\nprint (group_data)\n", 
            "cell_type": "code", 
            "metadata": {}, 
            "outputs": [
                {
                    "output_type": "stream", 
                    "name": "stdout", 
                    "text": "                                                        UpdatedNeighbourhood\nPostcode Borough                                                            \nM1B      Scarborough                                          Rouge, Malvern\nM1C      Scarborough                  Highland Creek, Rouge Hill, Port Union\nM1E      Scarborough                       Guildwood, Morningside, West Hill\nM1G      Scarborough                                                  Woburn\nM1H      Scarborough                                               Cedarbrae\nM1J      Scarborough                                     Scarborough Village\nM1K      Scarborough             East Birchmount Park, Ionview, Kennedy Park\nM1L      Scarborough                         Clairlea, Golden Mile, Oakridge\nM1M      Scarborough         Cliffcrest, Cliffside, Scarborough Village West\nM1N      Scarborough                             Birch Cliff, Cliffside West\nM1P      Scarborough       Dorset Park, Scarborough Town Centre, Wexford ...\nM1R      Scarborough                                       Maryvale, Wexford\nM1S      Scarborough                                               Agincourt\nM1T      Scarborough                 Clarks Corners, Sullivan, Tam O'Shanter\nM1V      Scarborough       Agincourt North, L'Amoreaux East, Milliken, St...\nM1W      Scarborough                                         L'Amoreaux West\nM1X      Scarborough                                             Upper Rouge\nM2H      North York                                        Hillcrest Village\nM2J      North York                             Fairview, Henry Farm, Oriole\nM2K      North York                                          Bayview Village\nM2L      North York                                 Silver Hills, York Mills\nM2M      North York                                  Newtonbrook, Willowdale\nM2N      North York                                         Willowdale South\nM2P      North York                                          York Mills West\nM2R      North York                                          Willowdale West\nM3A      North York                                                Parkwoods\nM3B      North York                                          Don Mills North\nM3C      North York                         Flemingdon Park, Don Mills South\nM3H      North York          Bathurst Manor, Downsview North, Wilson Heights\nM3J      North York                          Northwood Park, York University\n...                                                                      ...\nM6C      York                                             Humewood-Cedarvale\nM6E      York                                            Caledonia-Fairbanks\nM6G      Downtown Toronto                                           Christie\nM6H      West Toronto                           Dovercourt Village, Dufferin\nM6J      West Toronto                               Little Portugal, Trinity\nM6K      West Toronto           Brockton, Exhibition Place, Parkdale Village\nM6L      North York                       Downsview, North Park, Upwood Park\nM6M      York                 Del Ray, Keelesdale, Mount Dennis, Silverthorn\nM6N      York                                  The Junction North, Runnymede\nM6P      West Toronto                          High Park, The Junction South\nM6R      West Toronto                                 Parkdale, Roncesvalles\nM6S      West Toronto                                     Runnymede, Swansea\nM7A      Queen's Park                                           Queen's Park\nM7R      Mississauga                   Canada Post Gateway Processing Centre\nM7Y      East Toronto      Business Reply Mail Processing Centre 969 Eastern\nM8V      Etobicoke              Humber Bay Shores, Mimico South, New Toronto\nM8W      Etobicoke                                    Alderwood, Long Branch\nM8X      Etobicoke             The Kingsway, Montgomery Road, Old Mill North\nM8Y      Etobicoke         Humber Bay, King's Mill Park, Kingsway Park So...\nM8Z      Etobicoke         Kingsway Park South West, Mimico NW, The Queen...\nM9A      Etobicoke                                          Islington Avenue\nM9B      Etobicoke         Cloverdale, Islington, Martin Grove, Princess ...\nM9C      Etobicoke         Bloordale Gardens, Eringate, Markland Wood, Ol...\nM9L      North York                                            Humber Summit\nM9M      North York                                         Emery, Humberlea\nM9N      York                                                         Weston\nM9P      Etobicoke                                                 Westmount\nM9R      Etobicoke         Kingsview Village, Martin Grove Gardens, Richv...\nM9V      Etobicoke         Albion Gardens, Beaumond Heights, Humbergate, ...\nM9W      Etobicoke                                                 Northwest\n\n[103 rows x 1 columns]\n"
                }
            ], 
            "execution_count": 50
        }, 
        {
            "source": "# In the last cell of your notebook, use the .shape method to print the number of rows of your dataframe", 
            "cell_type": "markdown", 
            "metadata": {}
        }, 
        {
            "source": "group_data.shape", 
            "cell_type": "code", 
            "metadata": {}, 
            "outputs": [
                {
                    "output_type": "execute_result", 
                    "data": {
                        "text/plain": "(103, 1)"
                    }, 
                    "execution_count": 51, 
                    "metadata": {}
                }
            ], 
            "execution_count": 51
        }
    ], 
    "metadata": {
        "kernelspec": {
            "display_name": "Python 3.6", 
            "name": "python3", 
            "language": "python"
        }, 
        "language_info": {
            "mimetype": "text/x-python", 
            "nbconvert_exporter": "python", 
            "version": "3.6.8", 
            "name": "python", 
            "pygments_lexer": "ipython3", 
            "file_extension": ".py", 
            "codemirror_mode": {
                "version": 3, 
                "name": "ipython"
            }
        }
    }, 
    "nbformat": 4
}